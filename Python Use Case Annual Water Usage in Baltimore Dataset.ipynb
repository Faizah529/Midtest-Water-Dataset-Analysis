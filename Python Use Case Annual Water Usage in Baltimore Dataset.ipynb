{
 "cells": [
  {
   "cell_type": "markdown",
   "metadata": {},
   "source": [
    "# Python Use Case Annual Water Usage in Baltimore Dataset"
   ]
  },
  {
   "cell_type": "markdown",
   "metadata": {},
   "source": [
    "The problem is to predict annual water usage.\n",
    "\n",
    "The dataset is using 'Water.csv'.\n",
    "\n",
    "The dataset provides the annual water usage in Baltimore from 1885 to 1963, or 79 years of data.\n",
    "\n",
    "The values are in the units of liters per capita per day, and there are 79 observations."
   ]
  },
  {
   "cell_type": "markdown",
   "metadata": {},
   "source": [
    "### Import Libraries"
   ]
  },
  {
   "cell_type": "code",
   "execution_count": 1,
   "metadata": {},
   "outputs": [
    {
     "name": "stderr",
     "output_type": "stream",
     "text": [
      "C:\\Users\\faizah064287\\AppData\\Local\\Continuum\\anaconda3\\lib\\site-packages\\statsmodels\\compat\\pandas.py:56: FutureWarning: The pandas.core.datetools module is deprecated and will be removed in a future version. Please use the pandas.tseries module instead.\n",
      "  from pandas.core import datetools\n"
     ]
    }
   ],
   "source": [
    "import pandas as pd\n",
    "import numpy as np\n",
    "import matplotlib.pylab as plt\n",
    "from matplotlib.pylab import rcParams\n",
    "\n",
    "# Plot ACF and PACF\n",
    "from statsmodels.graphics.tsaplots import plot_acf, plot_pacf\n",
    "\n",
    "# ADF Test\n",
    "from statsmodels.tsa.stattools import adfuller\n",
    "\n",
    "# ARIMA Analysis\n",
    "from sklearn.metrics import mean_squared_error\n",
    "from statsmodels.tsa.arima_model import ARIMA\n",
    "from math import sqrt"
   ]
  },
  {
   "cell_type": "markdown",
   "metadata": {},
   "source": [
    "### 1. Import Dataset"
   ]
  },
  {
   "cell_type": "code",
   "execution_count": 2,
   "metadata": {},
   "outputs": [
    {
     "data": {
      "text/html": [
       "<div>\n",
       "<style scoped>\n",
       "    .dataframe tbody tr th:only-of-type {\n",
       "        vertical-align: middle;\n",
       "    }\n",
       "\n",
       "    .dataframe tbody tr th {\n",
       "        vertical-align: top;\n",
       "    }\n",
       "\n",
       "    .dataframe thead th {\n",
       "        text-align: right;\n",
       "    }\n",
       "</style>\n",
       "<table border=\"1\" class=\"dataframe\">\n",
       "  <thead>\n",
       "    <tr style=\"text-align: right;\">\n",
       "      <th></th>\n",
       "      <th>Year</th>\n",
       "      <th>Baltmore city annual water use</th>\n",
       "    </tr>\n",
       "  </thead>\n",
       "  <tbody>\n",
       "    <tr>\n",
       "      <th>0</th>\n",
       "      <td>1885</td>\n",
       "      <td>356</td>\n",
       "    </tr>\n",
       "    <tr>\n",
       "      <th>1</th>\n",
       "      <td>1886</td>\n",
       "      <td>386</td>\n",
       "    </tr>\n",
       "    <tr>\n",
       "      <th>2</th>\n",
       "      <td>1887</td>\n",
       "      <td>397</td>\n",
       "    </tr>\n",
       "    <tr>\n",
       "      <th>3</th>\n",
       "      <td>1888</td>\n",
       "      <td>397</td>\n",
       "    </tr>\n",
       "    <tr>\n",
       "      <th>4</th>\n",
       "      <td>1889</td>\n",
       "      <td>413</td>\n",
       "    </tr>\n",
       "  </tbody>\n",
       "</table>\n",
       "</div>"
      ],
      "text/plain": [
       "   Year  Baltmore city annual water use\n",
       "0  1885                             356\n",
       "1  1886                             386\n",
       "2  1887                             397\n",
       "3  1888                             397\n",
       "4  1889                             413"
      ]
     },
     "execution_count": 2,
     "metadata": {},
     "output_type": "execute_result"
    }
   ],
   "source": [
    "data=pd.read_csv('Water.csv') #Parse_dates : get format datetime of year\n",
    "data.head()\n",
    "#parse_dates=[0]"
   ]
  },
  {
   "cell_type": "code",
   "execution_count": 3,
   "metadata": {},
   "outputs": [
    {
     "name": "stdout",
     "output_type": "stream",
     "text": [
      "<class 'pandas.core.frame.DataFrame'>\n",
      "RangeIndex: 79 entries, 0 to 78\n",
      "Data columns (total 2 columns):\n",
      "Year                              79 non-null int64\n",
      "Baltmore city annual water use    79 non-null int64\n",
      "dtypes: int64(2)\n",
      "memory usage: 1.3 KB\n"
     ]
    }
   ],
   "source": [
    "data.info()"
   ]
  },
  {
   "cell_type": "markdown",
   "metadata": {},
   "source": [
    "### Dimension of Data"
   ]
  },
  {
   "cell_type": "code",
   "execution_count": 4,
   "metadata": {},
   "outputs": [
    {
     "data": {
      "text/plain": [
       "(79, 2)"
      ]
     },
     "execution_count": 4,
     "metadata": {},
     "output_type": "execute_result"
    }
   ],
   "source": [
    "data.shape"
   ]
  },
  {
   "cell_type": "markdown",
   "metadata": {},
   "source": [
    "### Split data into two"
   ]
  },
  {
   "cell_type": "markdown",
   "metadata": {},
   "source": [
    "Because time series data with ordered ranges, to divide the data into two parts is to divide the ordered data 70 is a dataset and 9 data is a validation. "
   ]
  },
  {
   "cell_type": "code",
   "execution_count": 5,
   "metadata": {},
   "outputs": [],
   "source": [
    "#Split data\n",
    "#Dataset data\n",
    "dataset=data[0:70]\n",
    "\n",
    "#Validation data\n",
    "validation=data[70:]"
   ]
  },
  {
   "cell_type": "code",
   "execution_count": 6,
   "metadata": {},
   "outputs": [
    {
     "name": "stdout",
     "output_type": "stream",
     "text": [
      "(70, 2)\n",
      "(9, 2)\n"
     ]
    }
   ],
   "source": [
    "print(dataset.shape)\n",
    "print(validation.shape)"
   ]
  },
  {
   "cell_type": "markdown",
   "metadata": {},
   "source": [
    "**Save data which have been split to directory in csv format**"
   ]
  },
  {
   "cell_type": "code",
   "execution_count": 7,
   "metadata": {},
   "outputs": [],
   "source": [
    "#Save dataset data\n",
    "dataset.to_csv(r'C:\\Users\\faizah064287\\Documents\\Data Scientist Boothcamp\\Python\\Untitled Folder\\dataset.csv')\n",
    "\n",
    "#Save validation data\n",
    "validation.to_csv(r'C:\\Users\\faizah064287\\Documents\\Data Scientist Boothcamp\\Python\\Untitled Folder\\validation.csv')"
   ]
  },
  {
   "cell_type": "markdown",
   "metadata": {},
   "source": [
    "### 2. Get Summary of Dataset"
   ]
  },
  {
   "cell_type": "code",
   "execution_count": 8,
   "metadata": {},
   "outputs": [
    {
     "data": {
      "text/html": [
       "<div>\n",
       "<style scoped>\n",
       "    .dataframe tbody tr th:only-of-type {\n",
       "        vertical-align: middle;\n",
       "    }\n",
       "\n",
       "    .dataframe tbody tr th {\n",
       "        vertical-align: top;\n",
       "    }\n",
       "\n",
       "    .dataframe thead th {\n",
       "        text-align: right;\n",
       "    }\n",
       "</style>\n",
       "<table border=\"1\" class=\"dataframe\">\n",
       "  <thead>\n",
       "    <tr style=\"text-align: right;\">\n",
       "      <th></th>\n",
       "      <th>Year</th>\n",
       "      <th>Baltmore city annual water use</th>\n",
       "    </tr>\n",
       "  </thead>\n",
       "  <tbody>\n",
       "    <tr>\n",
       "      <th>0</th>\n",
       "      <td>1885</td>\n",
       "      <td>356</td>\n",
       "    </tr>\n",
       "    <tr>\n",
       "      <th>1</th>\n",
       "      <td>1886</td>\n",
       "      <td>386</td>\n",
       "    </tr>\n",
       "    <tr>\n",
       "      <th>2</th>\n",
       "      <td>1887</td>\n",
       "      <td>397</td>\n",
       "    </tr>\n",
       "    <tr>\n",
       "      <th>3</th>\n",
       "      <td>1888</td>\n",
       "      <td>397</td>\n",
       "    </tr>\n",
       "    <tr>\n",
       "      <th>4</th>\n",
       "      <td>1889</td>\n",
       "      <td>413</td>\n",
       "    </tr>\n",
       "  </tbody>\n",
       "</table>\n",
       "</div>"
      ],
      "text/plain": [
       "   Year  Baltmore city annual water use\n",
       "0  1885                             356\n",
       "1  1886                             386\n",
       "2  1887                             397\n",
       "3  1888                             397\n",
       "4  1889                             413"
      ]
     },
     "execution_count": 8,
     "metadata": {},
     "output_type": "execute_result"
    }
   ],
   "source": [
    "dataset=pd.read_csv('dataset.csv')\n",
    "\n",
    "#Because of dataset contain duplicate index named : 'Unnamed:0' so next step is drop the column\n",
    "dataset = dataset.drop(['Unnamed: 0'], axis=1) \n",
    "\n",
    "dataset.head()"
   ]
  },
  {
   "cell_type": "code",
   "execution_count": 9,
   "metadata": {},
   "outputs": [
    {
     "data": {
      "text/html": [
       "<div>\n",
       "<style scoped>\n",
       "    .dataframe tbody tr th:only-of-type {\n",
       "        vertical-align: middle;\n",
       "    }\n",
       "\n",
       "    .dataframe tbody tr th {\n",
       "        vertical-align: top;\n",
       "    }\n",
       "\n",
       "    .dataframe thead th {\n",
       "        text-align: right;\n",
       "    }\n",
       "</style>\n",
       "<table border=\"1\" class=\"dataframe\">\n",
       "  <thead>\n",
       "    <tr style=\"text-align: right;\">\n",
       "      <th></th>\n",
       "      <th>Year</th>\n",
       "      <th>Baltmore city annual water use</th>\n",
       "    </tr>\n",
       "  </thead>\n",
       "  <tbody>\n",
       "    <tr>\n",
       "      <th>65</th>\n",
       "      <td>1950</td>\n",
       "      <td>575</td>\n",
       "    </tr>\n",
       "    <tr>\n",
       "      <th>66</th>\n",
       "      <td>1951</td>\n",
       "      <td>564</td>\n",
       "    </tr>\n",
       "    <tr>\n",
       "      <th>67</th>\n",
       "      <td>1952</td>\n",
       "      <td>549</td>\n",
       "    </tr>\n",
       "    <tr>\n",
       "      <th>68</th>\n",
       "      <td>1953</td>\n",
       "      <td>538</td>\n",
       "    </tr>\n",
       "    <tr>\n",
       "      <th>69</th>\n",
       "      <td>1954</td>\n",
       "      <td>568</td>\n",
       "    </tr>\n",
       "  </tbody>\n",
       "</table>\n",
       "</div>"
      ],
      "text/plain": [
       "    Year  Baltmore city annual water use\n",
       "65  1950                             575\n",
       "66  1951                             564\n",
       "67  1952                             549\n",
       "68  1953                             538\n",
       "69  1954                             568"
      ]
     },
     "execution_count": 9,
     "metadata": {},
     "output_type": "execute_result"
    }
   ],
   "source": [
    "dataset.tail()"
   ]
  },
  {
   "cell_type": "code",
   "execution_count": 10,
   "metadata": {},
   "outputs": [
    {
     "data": {
      "text/html": [
       "<div>\n",
       "<style scoped>\n",
       "    .dataframe tbody tr th:only-of-type {\n",
       "        vertical-align: middle;\n",
       "    }\n",
       "\n",
       "    .dataframe tbody tr th {\n",
       "        vertical-align: top;\n",
       "    }\n",
       "\n",
       "    .dataframe thead th {\n",
       "        text-align: right;\n",
       "    }\n",
       "</style>\n",
       "<table border=\"1\" class=\"dataframe\">\n",
       "  <thead>\n",
       "    <tr style=\"text-align: right;\">\n",
       "      <th></th>\n",
       "      <th>Year</th>\n",
       "      <th>Baltmore city annual water use</th>\n",
       "    </tr>\n",
       "  </thead>\n",
       "  <tbody>\n",
       "    <tr>\n",
       "      <th>count</th>\n",
       "      <td>70.000000</td>\n",
       "      <td>70.000000</td>\n",
       "    </tr>\n",
       "    <tr>\n",
       "      <th>mean</th>\n",
       "      <td>1919.500000</td>\n",
       "      <td>501.442857</td>\n",
       "    </tr>\n",
       "    <tr>\n",
       "      <th>std</th>\n",
       "      <td>20.351085</td>\n",
       "      <td>73.806766</td>\n",
       "    </tr>\n",
       "    <tr>\n",
       "      <th>min</th>\n",
       "      <td>1885.000000</td>\n",
       "      <td>344.000000</td>\n",
       "    </tr>\n",
       "    <tr>\n",
       "      <th>25%</th>\n",
       "      <td>1902.250000</td>\n",
       "      <td>458.000000</td>\n",
       "    </tr>\n",
       "    <tr>\n",
       "      <th>50%</th>\n",
       "      <td>1919.500000</td>\n",
       "      <td>496.000000</td>\n",
       "    </tr>\n",
       "    <tr>\n",
       "      <th>75%</th>\n",
       "      <td>1936.750000</td>\n",
       "      <td>546.250000</td>\n",
       "    </tr>\n",
       "    <tr>\n",
       "      <th>max</th>\n",
       "      <td>1954.000000</td>\n",
       "      <td>662.000000</td>\n",
       "    </tr>\n",
       "  </tbody>\n",
       "</table>\n",
       "</div>"
      ],
      "text/plain": [
       "              Year  Baltmore city annual water use\n",
       "count    70.000000                       70.000000\n",
       "mean   1919.500000                      501.442857\n",
       "std      20.351085                       73.806766\n",
       "min    1885.000000                      344.000000\n",
       "25%    1902.250000                      458.000000\n",
       "50%    1919.500000                      496.000000\n",
       "75%    1936.750000                      546.250000\n",
       "max    1954.000000                      662.000000"
      ]
     },
     "execution_count": 10,
     "metadata": {},
     "output_type": "execute_result"
    }
   ],
   "source": [
    "# Get Information from summary dataset\n",
    "\n",
    "dataset.describe()"
   ]
  },
  {
   "cell_type": "markdown",
   "metadata": {},
   "source": [
    "From it, we will know that mean of annual water in Baltimore is 471.580000 liters per capita per day, minimal water which usage in Baltimore is 344 liters and maximum water which usage in Baltimore is 662 liters from 1885 - 1954."
   ]
  },
  {
   "cell_type": "markdown",
   "metadata": {},
   "source": [
    "### 3. Time Series plot of Dataset"
   ]
  },
  {
   "cell_type": "markdown",
   "metadata": {},
   "source": [
    "In this step, creating model time series analysis using 'dataset.csv'."
   ]
  },
  {
   "cell_type": "markdown",
   "metadata": {},
   "source": [
    "**Set 'Year' of Index in Dataset**"
   ]
  },
  {
   "cell_type": "code",
   "execution_count": 11,
   "metadata": {},
   "outputs": [],
   "source": [
    "#Get Index of Year in dataset \n",
    "\n",
    "dataset=dataset.set_index('Year')"
   ]
  },
  {
   "cell_type": "markdown",
   "metadata": {},
   "source": [
    "Objection of index is cause 'Year' must detect as index and ignore if we want create plot time series."
   ]
  },
  {
   "cell_type": "markdown",
   "metadata": {},
   "source": [
    "**Plot of time series dataset**"
   ]
  },
  {
   "cell_type": "code",
   "execution_count": 12,
   "metadata": {},
   "outputs": [
    {
     "data": {
      "text/plain": [
       "[<matplotlib.lines.Line2D at 0x22a3f76cc18>]"
      ]
     },
     "execution_count": 12,
     "metadata": {},
     "output_type": "execute_result"
    },
    {
     "data": {
      "image/png": "[encoded data removed]",
      "text/plain": [
       "<matplotlib.figure.Figure at 0x22a3f4627f0>"
      ]
     },
     "metadata": {},
     "output_type": "display_data"
    }
   ],
   "source": [
    "plt.xlabel('Year')\n",
    "plt.ylabel('Baltmore city annual water use per liters')\n",
    "plt.plot(dataset)"
   ]
  },
  {
   "cell_type": "markdown",
   "metadata": {},
   "source": [
    "The plot dataset shows that the amount of water used in Baltimore fluctuates, sometimes the amount of water used is large and the use of water is small.\n",
    "\n",
    "Some observations from the plot include:\n",
    "\n",
    "- There looks to be an increasing trend in water usage over time.\n",
    "- There do not appear to be any obvious outliers, although there are some large fluctuations.\n",
    "- There is a downward trend for the last few years of the series.\n"
   ]
  },
  {
   "cell_type": "markdown",
   "metadata": {},
   "source": [
    "### 4. Group data by decade"
   ]
  },
  {
   "cell_type": "code",
   "execution_count": 13,
   "metadata": {},
   "outputs": [],
   "source": [
    "data=data.set_index('Year')"
   ]
  },
  {
   "cell_type": "code",
   "execution_count": 14,
   "metadata": {},
   "outputs": [
    {
     "data": {
      "text/plain": [
       "[<matplotlib.lines.Line2D at 0x22a3f806470>]"
      ]
     },
     "execution_count": 14,
     "metadata": {},
     "output_type": "execute_result"
    },
    {
     "data": {
      "image/png": "[encoded data removed]",
      "text/plain": [
       "<matplotlib.figure.Figure at 0x22a3f7549e8>"
      ]
     },
     "metadata": {},
     "output_type": "display_data"
    }
   ],
   "source": [
    "plt.xlabel('Year')\n",
    "plt.ylabel('Baltmore city annual water use per liters')\n",
    "plt.plot(data)"
   ]
  },
  {
   "cell_type": "markdown",
   "metadata": {},
   "source": [
    "In this step I, see insight for every 10 years(decade) is look for the plot. It appears that every 10 years, the data series has a different summary statistics because the data fluctuates all the time. For the early years, the use of water was still low, then it continued to increase over time."
   ]
  },
  {
   "cell_type": "markdown",
   "metadata": {},
   "source": [
    "### 5. ARIMA"
   ]
  },
  {
   "cell_type": "markdown",
   "metadata": {},
   "source": [
    "In this step, Using ARIMA(p,d,q).\n",
    "\n",
    "The ARIMA(p,d,q) model requires three parameters and is traditionally configured manually.\n",
    "\n",
    "Analysis of the time series data assumes that we are working with a stationary time series.\n",
    "\n",
    "The time series is likely non-stationary. Make it stationary by first differencing the series and using a statistical test to confirm that the result is stationary."
   ]
  },
  {
   "cell_type": "markdown",
   "metadata": {},
   "source": [
    "### Split dataset into train and test"
   ]
  },
  {
   "cell_type": "code",
   "execution_count": 15,
   "metadata": {},
   "outputs": [],
   "source": [
    "# Split dataset into train and test with proportion 50%, 50%\n",
    "X = dataset\n",
    "X = X.astype('float32')\n",
    "train_size = int(len(X) * 0.50)\n",
    "train, test = X[0:train_size], X[train_size:]"
   ]
  },
  {
   "cell_type": "code",
   "execution_count": 16,
   "metadata": {},
   "outputs": [
    {
     "name": "stdout",
     "output_type": "stream",
     "text": [
      "(35, 1)\n",
      "(35, 1)\n"
     ]
    }
   ],
   "source": [
    "#Get Dimension of data train and test\n",
    "print(train.shape)\n",
    "print(test.shape)"
   ]
  },
  {
   "cell_type": "markdown",
   "metadata": {},
   "source": [
    "Step above is split dataset.csv into data train and test with proportion 50% and 50%. So, we can see that data train contains 35 rows of data and data test contains 35 rows of data."
   ]
  },
  {
   "cell_type": "code",
   "execution_count": 17,
   "metadata": {},
   "outputs": [
    {
     "data": {
      "text/html": [
       "<div>\n",
       "<style scoped>\n",
       "    .dataframe tbody tr th:only-of-type {\n",
       "        vertical-align: middle;\n",
       "    }\n",
       "\n",
       "    .dataframe tbody tr th {\n",
       "        vertical-align: top;\n",
       "    }\n",
       "\n",
       "    .dataframe thead th {\n",
       "        text-align: right;\n",
       "    }\n",
       "</style>\n",
       "<table border=\"1\" class=\"dataframe\">\n",
       "  <thead>\n",
       "    <tr style=\"text-align: right;\">\n",
       "      <th></th>\n",
       "      <th>Baltmore city annual water use</th>\n",
       "    </tr>\n",
       "    <tr>\n",
       "      <th>Year</th>\n",
       "      <th></th>\n",
       "    </tr>\n",
       "  </thead>\n",
       "  <tbody>\n",
       "    <tr>\n",
       "      <th>1885</th>\n",
       "      <td>356.0</td>\n",
       "    </tr>\n",
       "    <tr>\n",
       "      <th>1886</th>\n",
       "      <td>386.0</td>\n",
       "    </tr>\n",
       "    <tr>\n",
       "      <th>1887</th>\n",
       "      <td>397.0</td>\n",
       "    </tr>\n",
       "    <tr>\n",
       "      <th>1888</th>\n",
       "      <td>397.0</td>\n",
       "    </tr>\n",
       "    <tr>\n",
       "      <th>1889</th>\n",
       "      <td>413.0</td>\n",
       "    </tr>\n",
       "  </tbody>\n",
       "</table>\n",
       "</div>"
      ],
      "text/plain": [
       "      Baltmore city annual water use\n",
       "Year                                \n",
       "1885                           356.0\n",
       "1886                           386.0\n",
       "1887                           397.0\n",
       "1888                           397.0\n",
       "1889                           413.0"
      ]
     },
     "execution_count": 17,
     "metadata": {},
     "output_type": "execute_result"
    }
   ],
   "source": [
    "train.head()"
   ]
  },
  {
   "cell_type": "markdown",
   "metadata": {},
   "source": [
    "### Plot of data train to use time series analysis"
   ]
  },
  {
   "cell_type": "code",
   "execution_count": 18,
   "metadata": {},
   "outputs": [
    {
     "data": {
      "text/plain": [
       "[<matplotlib.lines.Line2D at 0x22a3f878a90>]"
      ]
     },
     "execution_count": 18,
     "metadata": {},
     "output_type": "execute_result"
    },
    {
     "data": {
      "image/png": "[encoded data removed]",
      "text/plain": [
       "<matplotlib.figure.Figure at 0x22a3f7eb828>"
      ]
     },
     "metadata": {},
     "output_type": "display_data"
    }
   ],
   "source": [
    "plt.xlabel('Year')\n",
    "plt.ylabel('Baltmore city annual water use per liters')\n",
    "plt.plot(train)"
   ]
  },
  {
   "cell_type": "markdown",
   "metadata": {},
   "source": [
    "## Checking Stationarity in Variance and Mean"
   ]
  },
  {
   "cell_type": "markdown",
   "metadata": {},
   "source": [
    "**Rolling Statistics**"
   ]
  },
  {
   "cell_type": "markdown",
   "metadata": {},
   "source": [
    "Rolling Statistics is used to check stationarity in variance and mean of data train with plot."
   ]
  },
  {
   "cell_type": "code",
   "execution_count": 19,
   "metadata": {},
   "outputs": [
    {
     "name": "stdout",
     "output_type": "stream",
     "text": [
      "      Baltmore city annual water use\n",
      "Year                                \n",
      "1885                             NaN\n",
      "1886                             NaN\n",
      "1887                             NaN\n",
      "1888                             NaN\n",
      "1889                             NaN\n",
      "1890                             NaN\n",
      "1891                             NaN\n",
      "1892                             NaN\n",
      "1893                             NaN\n",
      "1894                             NaN\n",
      "1895                             NaN\n",
      "1896                      403.416667\n",
      "1897                      410.333333\n",
      "1898                      416.000000\n",
      "1899                      421.416667\n",
      "1900                      426.166667\n",
      "1901                      430.833333\n",
      "1902                      434.333333\n",
      "1903                      434.916667\n",
      "1904                      445.666667\n",
      "1905                      451.333333\n",
      "1906                      460.416667\n",
      "1907                      465.500000\n",
      "1908                      469.916667\n",
      "1909                      472.166667\n",
      "1910                      472.833333\n",
      "1911                      473.750000\n",
      "1912                      480.083333\n",
      "1913                      496.166667\n",
      "1914                      508.750000\n",
      "1915                      516.666667\n",
      "1916                      520.166667\n",
      "1917                      525.833333\n",
      "1918                      528.666667\n",
      "1919                      530.500000       Baltmore city annual water use\n",
      "Year                                \n",
      "1885                             NaN\n",
      "1886                             NaN\n",
      "1887                             NaN\n",
      "1888                             NaN\n",
      "1889                             NaN\n",
      "1890                             NaN\n",
      "1891                             NaN\n",
      "1892                             NaN\n",
      "1893                             NaN\n",
      "1894                             NaN\n",
      "1895                             NaN\n",
      "1896                       41.810087\n",
      "1897                       40.082491\n",
      "1898                       41.122876\n",
      "1899                       42.645384\n",
      "1900                       42.852460\n",
      "1901                       44.312595\n",
      "1902                       48.146242\n",
      "1903                       48.853135\n",
      "1904                       40.508884\n",
      "1905                       36.579511\n",
      "1906                       22.761444\n",
      "1907                       19.491257\n",
      "1908                       17.890873\n",
      "1909                       15.134748\n",
      "1910                       14.421154\n",
      "1911                       14.013792\n",
      "1912                       20.119906\n",
      "1913                       55.856689\n",
      "1914                       71.591169\n",
      "1915                       74.753332\n",
      "1916                       73.495619\n",
      "1917                       70.840196\n",
      "1918                       69.016906\n",
      "1919                       67.919069\n"
     ]
    }
   ],
   "source": [
    "#Rolling Statistics\n",
    "#Determing rolling statistics\n",
    "\n",
    "rolmean = train.rolling(window=12).mean()\n",
    "\n",
    "rolstd = train.rolling(window=12).std()\n",
    "print(rolmean, rolstd)"
   ]
  },
  {
   "cell_type": "code",
   "execution_count": 20,
   "metadata": {},
   "outputs": [
    {
     "data": {
      "image/png": "[encoded data removed]",
      "text/plain": [
       "<matplotlib.figure.Figure at 0x22a3f88c9b0>"
      ]
     },
     "metadata": {},
     "output_type": "display_data"
    }
   ],
   "source": [
    "# Plot Rolling Statistics\n",
    "original=plt.plot(train, color='red', label='Original')\n",
    "mean=plt.plot(rolmean, color='blue', label='Rolling Mean')\n",
    "std=plt.plot(rolstd, color='orange', label='Rolling Std')\n",
    "plt.legend(loc='best')\n",
    "plt.title('Plot Rolling Mean and Standard Deviation')\n",
    "plt.show(block=False)"
   ]
  },
  {
   "cell_type": "markdown",
   "metadata": {},
   "source": [
    "Objection of Rolling statistics  is checking the stationarity of data on the mean and standar deviation using a plot.\n",
    "From the results of the rolling plot mean and standard deviation above, it can be seen that the data train is not stationary about the mean and variance. Because the mean looks up and the variance is still fluctuating. So, stationarity needs to be done."
   ]
  },
  {
   "cell_type": "markdown",
   "metadata": {},
   "source": [
    "To further augment our hypothesis that the time series is not stationary, let us perform the ADF TEST."
   ]
  },
  {
   "cell_type": "markdown",
   "metadata": {},
   "source": [
    "**Uji ADF TEST**"
   ]
  },
  {
   "cell_type": "markdown",
   "metadata": {},
   "source": [
    "To test whether the data train is stationary in mean can be done with the ADF test where later testing is done with p-value. Thus, the conclusions of stationarity data are more certain."
   ]
  },
  {
   "cell_type": "code",
   "execution_count": 21,
   "metadata": {},
   "outputs": [
    {
     "name": "stdout",
     "output_type": "stream",
     "text": [
      "Results of Dickey-Fuller Test:\n",
      "Test Statistic                 -2.156197\n",
      "p-value                         0.222526\n",
      "#Lags Used                      1.000000\n",
      "Number of Observations Used    33.000000\n",
      "Critical Value (1%)            -3.646135\n",
      "Critical Value (5%)            -2.954127\n",
      "Critical Value (10%)           -2.615968\n",
      "dtype: float64\n"
     ]
    }
   ],
   "source": [
    "#Uji ADF test\n",
    "#Perform Dickey-Fuller test:\n",
    "from statsmodels.tsa.stattools import adfuller\n",
    "\n",
    "print ('Results of Dickey-Fuller Test:')\n",
    "dftest = adfuller(train['Baltmore city annual water use'], autolag='AIC')\n",
    "\n",
    "dfoutput = pd.Series(dftest[0:4], index=['Test Statistic','p-value','#Lags Used','Number of Observations Used'])\n",
    "for key,value in dftest[4].items():\n",
    "  dfoutput['Critical Value (%s)' %key] = value\n",
    "  \n",
    "print(dfoutput)"
   ]
  },
  {
   "cell_type": "markdown",
   "metadata": {},
   "source": [
    "Diatas merupakan output hasil uji ADF test. Uji ADF test digunakan untuk apakah data stationer terhadap mean atau tidak.\n",
    "\n",
    "1. Uji Hipotesis\n",
    "    H0 : Data tidak stationer terhadap mean\n",
    "    H1 : Data stationer terhadap mean\n",
    "2. Tingkat signifikansi\n",
    "    alpha = 5%\n",
    "3. Statistik Uji\n",
    "    p-value = 0.222526\n",
    "4. Daerah Kritik\n",
    "    H0 ditolak jika p-value < alpha\n",
    "5. Kesimpulan\n",
    "    Karena nilai p-value = 0.222526 > alpha = 0.05 maka H0 tidak ditolak sehingga dapat disimpulkan bahwa data tidak stationer terhadap mean.\n",
    "\n",
    "Dari kesimpulan uji diatas maka data tidak stationer terhadap mean, dan dari hasil plot rolling statistics tadi terlihat juga data belum stationer terhadap variansi sehingga data 'annual water in baltimore' ini belum stationer dalam mean dan variansi. Maka, pada analisis model time series selanjutnya adalah melakukan stationaritas data dengan mengambil differencing dan transformasi."
   ]
  },
  {
   "cell_type": "markdown",
   "metadata": {},
   "source": [
    "From testing using Rolling Statistics and ADF TEST, it can be concluded that dataset above is not stationary. So, the next step is to do differencing data to make the stationarity data of the mean and then check again using the ADF TEST whether the assumptions of mean and variance have been fulfilled."
   ]
  },
  {
   "cell_type": "markdown",
   "metadata": {},
   "source": [
    "**Differencing Transfrom data train**"
   ]
  },
  {
   "cell_type": "markdown",
   "metadata": {},
   "source": [
    "Differencing is a method of transforming a time series dataset.\n",
    "\n",
    "It can be used to remove the series dependence on time, so-called temporal dependence. This includes structures like trends and seasonality.\n",
    "\n",
    "Differencing is performed by subtracting the previous observation from the current observation. \n",
    "\n",
    "diff(t) = obs(t) -  obs(t-1)\n",
    "\n",
    "\n",
    "From the above formula, data will be excluded in the first row because the differencing results are not filled in, because it is differencing transform starting from the second row of data, so it needs to be done dropping rows containing the value 'Null'.\n"
   ]
  },
  {
   "cell_type": "code",
   "execution_count": 22,
   "metadata": {},
   "outputs": [
    {
     "data": {
      "text/html": [
       "<div>\n",
       "<style scoped>\n",
       "    .dataframe tbody tr th:only-of-type {\n",
       "        vertical-align: middle;\n",
       "    }\n",
       "\n",
       "    .dataframe tbody tr th {\n",
       "        vertical-align: top;\n",
       "    }\n",
       "\n",
       "    .dataframe thead th {\n",
       "        text-align: right;\n",
       "    }\n",
       "</style>\n",
       "<table border=\"1\" class=\"dataframe\">\n",
       "  <thead>\n",
       "    <tr style=\"text-align: right;\">\n",
       "      <th></th>\n",
       "      <th>Baltmore city annual water use</th>\n",
       "    </tr>\n",
       "    <tr>\n",
       "      <th>Year</th>\n",
       "      <th></th>\n",
       "    </tr>\n",
       "  </thead>\n",
       "  <tbody>\n",
       "    <tr>\n",
       "      <th>1886</th>\n",
       "      <td>30.0</td>\n",
       "    </tr>\n",
       "    <tr>\n",
       "      <th>1887</th>\n",
       "      <td>11.0</td>\n",
       "    </tr>\n",
       "    <tr>\n",
       "      <th>1888</th>\n",
       "      <td>0.0</td>\n",
       "    </tr>\n",
       "    <tr>\n",
       "      <th>1889</th>\n",
       "      <td>16.0</td>\n",
       "    </tr>\n",
       "    <tr>\n",
       "      <th>1890</th>\n",
       "      <td>45.0</td>\n",
       "    </tr>\n",
       "  </tbody>\n",
       "</table>\n",
       "</div>"
      ],
      "text/plain": [
       "      Baltmore city annual water use\n",
       "Year                                \n",
       "1886                            30.0\n",
       "1887                            11.0\n",
       "1888                             0.0\n",
       "1889                            16.0\n",
       "1890                            45.0"
      ]
     },
     "execution_count": 22,
     "metadata": {},
     "output_type": "execute_result"
    }
   ],
   "source": [
    "#Differencing data\n",
    "\n",
    "diff = train.diff()\n",
    "diff= diff.dropna()\n",
    "diff.head()"
   ]
  },
  {
   "cell_type": "code",
   "execution_count": 23,
   "metadata": {},
   "outputs": [
    {
     "data": {
      "text/plain": [
       "[<matplotlib.lines.Line2D at 0x22a405cea20>]"
      ]
     },
     "execution_count": 23,
     "metadata": {},
     "output_type": "execute_result"
    },
    {
     "data": {
      "image/png": "[encoded data removed]",
      "text/plain": [
       "<matplotlib.figure.Figure at 0x22a3f8ca4e0>"
      ]
     },
     "metadata": {},
     "output_type": "display_data"
    }
   ],
   "source": [
    "plt.xlabel('Year')\n",
    "plt.ylabel('Baltmore city annual water use per liters')\n",
    "plt.plot(diff)"
   ]
  },
  {
   "cell_type": "markdown",
   "metadata": {},
   "source": [
    "After differencing method, Next step is Uji ADF Test and Rolling Statistics for checking stationarity in Mean and Variance which have been fulfilled."
   ]
  },
  {
   "cell_type": "markdown",
   "metadata": {},
   "source": [
    "### Uji ADF Test"
   ]
  },
  {
   "cell_type": "code",
   "execution_count": 24,
   "metadata": {},
   "outputs": [
    {
     "name": "stdout",
     "output_type": "stream",
     "text": [
      "Results of Dickey-Fuller Test:\n",
      "Test Statistic                 -4.159039\n",
      "p-value                         0.000772\n",
      "#Lags Used                      1.000000\n",
      "Number of Observations Used    32.000000\n",
      "Critical Value (1%)            -3.653520\n",
      "Critical Value (5%)            -2.957219\n",
      "Critical Value (10%)           -2.617588\n",
      "dtype: float64\n"
     ]
    }
   ],
   "source": [
    "#Uji ADF test\n",
    "#Perform Dickey-Fuller test:\n",
    "\n",
    "print ('Results of Dickey-Fuller Test:')\n",
    "dftest = adfuller(diff['Baltmore city annual water use'], autolag='AIC')\n",
    "\n",
    "dfoutput = pd.Series(dftest[0:4], index=['Test Statistic','p-value','#Lags Used','Number of Observations Used'])\n",
    "for key,value in dftest[4].items():\n",
    "  dfoutput['Critical Value (%s)' %key] = value\n",
    "  \n",
    "print(dfoutput)"
   ]
  },
  {
   "cell_type": "markdown",
   "metadata": {},
   "source": [
    "Diatas merupakan output hasil uji ADF test. Uji ADF test digunakan untuk apakah data stationer terhadap mean atau tidak.\n",
    "\n",
    "1. Uji Hipotesis\n",
    "    H0 : Data tidak stationer terhadap mean\n",
    "    H1 : Data stationer terhadap mean\n",
    "2. Tingkat signifikansi\n",
    "    alpha = 5%\n",
    "3. Statistik Uji\n",
    "    p-value = 0.000772\n",
    "4. Daerah Kritik\n",
    "    H0 ditolak jika p-value < alpha\n",
    "5. Kesimpulan\n",
    "    Karena nilai p-value = 0.000772 < alpha = 0.05 maka H0 ditolak sehingga dapat disimpulkan bahwa data stationer terhadap mean."
   ]
  },
  {
   "cell_type": "code",
   "execution_count": 25,
   "metadata": {},
   "outputs": [
    {
     "name": "stdout",
     "output_type": "stream",
     "text": [
      "      Baltmore city annual water use\n",
      "Year                                \n",
      "1886                             NaN\n",
      "1887                             NaN\n",
      "1888                             NaN\n",
      "1889                             NaN\n",
      "1890                             NaN\n",
      "1891                             NaN\n",
      "1892                             NaN\n",
      "1893                             NaN\n",
      "1894                             NaN\n",
      "1895                             NaN\n",
      "1896                             NaN\n",
      "1897                        6.916667\n",
      "1898                        5.666667\n",
      "1899                        5.416667\n",
      "1900                        4.750000\n",
      "1901                        4.666667\n",
      "1902                        3.500000\n",
      "1903                        0.583333\n",
      "1904                       10.750000\n",
      "1905                        5.666667\n",
      "1906                        9.083333\n",
      "1907                        5.083333\n",
      "1908                        4.416667\n",
      "1909                        2.250000\n",
      "1910                        0.666667\n",
      "1911                        0.916667\n",
      "1912                        6.333333\n",
      "1913                       16.083333\n",
      "1914                       12.583333\n",
      "1915                        7.916667\n",
      "1916                        3.500000\n",
      "1917                        5.666667\n",
      "1918                        2.833333\n",
      "1919                        1.833333       Baltmore city annual water use\n",
      "Year                                \n",
      "1886                             NaN\n",
      "1887                             NaN\n",
      "1888                             NaN\n",
      "1889                             NaN\n",
      "1890                             NaN\n",
      "1891                             NaN\n",
      "1892                             NaN\n",
      "1893                             NaN\n",
      "1894                             NaN\n",
      "1895                             NaN\n",
      "1896                             NaN\n",
      "1897                       52.392675\n",
      "1898                       51.969105\n",
      "1899                       51.948328\n",
      "1900                       52.075339\n",
      "1901                       52.056496\n",
      "1902                       51.220557\n",
      "1903                       50.755131\n",
      "1904                       25.996940\n",
      "1905                       24.392001\n",
      "1906                       21.660430\n",
      "1907                       14.724490\n",
      "1908                       14.412484\n",
      "1909                       16.310203\n",
      "1910                       15.876417\n",
      "1911                       16.025311\n",
      "1912                       22.439143\n",
      "1913                       42.762469\n",
      "1914                       43.147650\n",
      "1915                       48.297296\n",
      "1916                       53.160990\n",
      "1917                       52.867473\n",
      "1918                       53.463383\n",
      "1919                       53.388513\n"
     ]
    }
   ],
   "source": [
    "#Rolling Statistics\n",
    "#Determing rolling statistics\n",
    "\n",
    "rolmean = diff.rolling(window=12).mean()\n",
    "\n",
    "rolstd = diff.rolling(window=12).std()\n",
    "print(rolmean, rolstd)"
   ]
  },
  {
   "cell_type": "code",
   "execution_count": 26,
   "metadata": {},
   "outputs": [
    {
     "data": {
      "image/png": "[encoded data removed]",
      "text/plain": [
       "<matplotlib.figure.Figure at 0x22a405e8780>"
      ]
     },
     "metadata": {},
     "output_type": "display_data"
    }
   ],
   "source": [
    "# Plot Rolling Statistics\n",
    "original=plt.plot(diff, color='red', label='Original')\n",
    "mean=plt.plot(rolmean, color='blue', label='Rolling Mean')\n",
    "std=plt.plot(rolstd, color='orange', label='Rolling Std')\n",
    "plt.legend(loc='best')\n",
    "plt.title('Plot Rolling Mean and Standard Deviation')\n",
    "plt.show(block=False)"
   ]
  },
  {
   "cell_type": "markdown",
   "metadata": {},
   "source": [
    "Dari kesimpulan uji diatas maka data sudah stationer terhadap mean, dan dari hasil plot rolling statistics tadi terlihat juga data sudah stationer terhadap variansi sehingga data 'annual water in baltimore' ini sudah stationer dalam mean dan variansi. Maka, pada analisis model time series selanjutnya menggunakan data yang telah di diferencing satu kali. Sehingga, didapatkan d=1."
   ]
  },
  {
   "cell_type": "markdown",
   "metadata": {},
   "source": [
    "### ARIMA(p,d,q)"
   ]
  },
  {
   "cell_type": "markdown",
   "metadata": {},
   "source": [
    "**Get Parameters p and q with ACF, PACF plot**"
   ]
  },
  {
   "cell_type": "code",
   "execution_count": 27,
   "metadata": {},
   "outputs": [
    {
     "data": {
      "image/png": "[encoded data removed]",
      "text/plain": [
       "<matplotlib.figure.Figure at 0x22a405d7f28>"
      ]
     },
     "metadata": {},
     "output_type": "display_data"
    },
    {
     "data": {
      "image/png": "[encoded data removed]",
      "text/plain": [
       "<matplotlib.figure.Figure at 0x22a405d7da0>"
      ]
     },
     "metadata": {},
     "output_type": "display_data"
    }
   ],
   "source": [
    "#Get plot Plot PACF and ACF to get order of p and q in Arima time series analysis.\n",
    "\n",
    "#Plot PACF\n",
    "#Gt order of p from lags \n",
    "plot_pacf(diff, lags=30)\n",
    "\n",
    "#Plot acf of q from lags \n",
    "plot_acf(diff, lags=30)\n",
    "plt.show()"
   ]
  },
  {
   "cell_type": "markdown",
   "metadata": {},
   "source": [
    "Below are some observations from the plots.\n",
    "\n",
    "- The ACF (q) shows no significant lags .\n",
    "- The PACF (p) also shows no significant lags.\n",
    "- A good starting point for the p and q values is also 0."
   ]
  },
  {
   "cell_type": "code",
   "execution_count": 28,
   "metadata": {},
   "outputs": [
    {
     "name": "stdout",
     "output_type": "stream",
     "text": [
      "<class 'pandas.core.frame.DataFrame'>\n",
      "Int64Index: 35 entries, 1885 to 1919\n",
      "Data columns (total 1 columns):\n",
      "Baltmore city annual water use    35 non-null float32\n",
      "dtypes: float32(1)\n",
      "memory usage: 420.0 bytes\n"
     ]
    }
   ],
   "source": [
    "train.info()"
   ]
  },
  {
   "cell_type": "markdown",
   "metadata": {},
   "source": [
    "**ARIMA MODEL (0,1,0)**"
   ]
  },
  {
   "cell_type": "code",
   "execution_count": 29,
   "metadata": {},
   "outputs": [],
   "source": [
    "# Prepare Data of dataset\n",
    "X = dataset.values\n",
    "X = X.astype('float32')\n",
    "train_size = int(len(X) * 0.50)\n",
    "train, test = X[0:train_size], X[train_size:]"
   ]
  },
  {
   "cell_type": "code",
   "execution_count": 30,
   "metadata": {},
   "outputs": [
    {
     "name": "stdout",
     "output_type": "stream",
     "text": [
      ">Predicted=507.324, Actual=503\n",
      ">Predicted=507.200, Actual=515\n",
      ">Predicted=519.417, Actual=522\n",
      ">Predicted=526.486, Actual=492\n",
      ">Predicted=495.579, Actual=503\n",
      ">Predicted=506.769, Actual=503\n",
      ">Predicted=506.675, Actual=450\n",
      ">Predicted=452.293, Actual=432\n",
      ">Predicted=433.810, Actual=432\n",
      ">Predicted=433.767, Actual=458\n",
      ">Predicted=460.318, Actual=462\n",
      ">Predicted=464.356, Actual=503\n",
      ">Predicted=506.196, Actual=488\n",
      ">Predicted=490.809, Actual=466\n",
      ">Predicted=468.292, Actual=492\n",
      ">Predicted=494.776, Actual=503\n",
      ">Predicted=505.940, Actual=515\n",
      ">Predicted=518.118, Actual=500\n",
      ">Predicted=502.769, Actual=522\n",
      ">Predicted=525.132, Actual=575\n",
      ">Predicted=579.056, Actual=583\n",
      ">Predicted=587.127, Actual=587\n",
      ">Predicted=591.125, Actual=628\n",
      ">Predicted=632.772, Actual=640\n",
      ">Predicted=644.897, Actual=609\n",
      ">Predicted=613.288, Actual=606\n",
      ">Predicted=610.167, Actual=632\n",
      ">Predicted=636.525, Actual=617\n",
      ">Predicted=621.210, Actual=613\n",
      ">Predicted=617.079, Actual=598\n",
      ">Predicted=601.781, Actual=575\n",
      ">Predicted=578.369, Actual=564\n",
      ">Predicted=567.152, Actual=549\n",
      ">Predicted=551.881, Actual=538\n",
      ">Predicted=540.676, Actual=568\n"
     ]
    }
   ],
   "source": [
    "# Walk-forward Validation\n",
    "history = [x for x in train]\n",
    "predictions = list()\n",
    "for i in range(len(test)):\n",
    "    # predict\n",
    "    model = ARIMA(history, order=(0,1,0))\n",
    "    model_fit = model.fit(disp=0)\n",
    "    yhat = model_fit.forecast()[0]\n",
    "    predictions.append(yhat)\n",
    "    # observation\n",
    "    obs = test[i]\n",
    "    history.append(obs)\n",
    "    print('>Predicted=%.3f, Actual=%3.f' % (yhat, obs))"
   ]
  },
  {
   "cell_type": "code",
   "execution_count": 31,
   "metadata": {},
   "outputs": [
    {
     "name": "stdout",
     "output_type": "stream",
     "text": [
      "RMSE: 22.772\n"
     ]
    }
   ],
   "source": [
    "# report performance\n",
    "mse = mean_squared_error(test, predictions)\n",
    "rmse = sqrt(mse)\n",
    "print('RMSE: %.3f' % rmse)"
   ]
  },
  {
   "cell_type": "markdown",
   "metadata": {},
   "source": [
    "### Validation Model using validation data"
   ]
  },
  {
   "cell_type": "code",
   "execution_count": 32,
   "metadata": {},
   "outputs": [],
   "source": [
    "validation=pd.read_csv('validation.csv')\n",
    "\n",
    "#Because of dataset contain duplicate index named : 'Unnamed:0' so next step is drop the column\n",
    "validation = validation.drop('Unnamed: 0', axis=1) "
   ]
  },
  {
   "cell_type": "code",
   "execution_count": 33,
   "metadata": {},
   "outputs": [],
   "source": [
    "validation=validation.set_index('Year')"
   ]
  },
  {
   "cell_type": "code",
   "execution_count": 34,
   "metadata": {},
   "outputs": [
    {
     "name": "stdout",
     "output_type": "stream",
     "text": [
      ">Predicted=571.072, Actual=575\n",
      ">Predicted=578.129, Actual=579\n",
      ">Predicted=582.141, Actual=587\n",
      ">Predicted=590.208, Actual=602\n",
      ">Predicted=605.370, Actual=594\n",
      ">Predicted=597.216, Actual=587\n",
      ">Predicted=590.080, Actual=587\n",
      ">Predicted=590.039, Actual=625\n",
      ">Predicted=628.494, Actual=613\n"
     ]
    }
   ],
   "source": [
    "# load and prepare datasets for validation\n",
    "X = dataset.values.astype('float32')\n",
    "history = [x for x in X]\n",
    "y = validation.values.astype('float32')\n",
    "predictions = list()\n",
    "for i in range(len(y)):\n",
    "    # predict\n",
    "    model = ARIMA(history, order=(0,1,0))\n",
    "    model_fit = model.fit(disp=0)\n",
    "    yhat = model_fit.forecast()[0]\n",
    "    predictions.append(yhat)\n",
    "    # observation\n",
    "    obs = y[i]\n",
    "    history.append(obs)\n",
    "    print('>Predicted=%.3f, Actual=%3.f' % (yhat, obs))"
   ]
  },
  {
   "cell_type": "code",
   "execution_count": 35,
   "metadata": {},
   "outputs": [
    {
     "name": "stdout",
     "output_type": "stream",
     "text": [
      "RMSE: 14.469\n"
     ]
    }
   ],
   "source": [
    "# report performance\n",
    "mse = mean_squared_error(y, predictions)\n",
    "rmse = sqrt(mse)\n",
    "print('RMSE: %.3f' % rmse)"
   ]
  },
  {
   "cell_type": "markdown",
   "metadata": {},
   "source": [
    "The final RMSE for the validation period is predicted at 14.5 liters per capita per day. This is not too different from the expected error of 22, but I would expect that it is also not too different from a simple persistence model."
   ]
  },
  {
   "cell_type": "markdown",
   "metadata": {},
   "source": [
    "**A plot of the predictions compared to the validation dataset is also provided**"
   ]
  },
  {
   "cell_type": "code",
   "execution_count": 36,
   "metadata": {},
   "outputs": [
    {
     "data": {
      "image/png": "[encoded data removed]",
      "text/plain": [
       "<matplotlib.figure.Figure at 0x22a40677d68>"
      ]
     },
     "metadata": {},
     "output_type": "display_data"
    }
   ],
   "source": [
    "plt.plot(y)\n",
    "plt.plot(predictions, color='red')\n",
    "plt.show()"
   ]
  },
  {
   "cell_type": "markdown",
   "metadata": {},
   "source": [
    "## Summary"
   ]
  },
  {
   "cell_type": "markdown",
   "metadata": {},
   "source": [
    "- This time series analysis is used dataset water usage in Baltimore liters per capita per days\n",
    "- Data 'Water.csv' is split into two data, one for model development (dataset.csv) and other for validation (validation.csv) with number of rows is 70 and 9.\n",
    "- Then 'dataset.csv' split again into train and test sets with proportion 50% for model development.\n",
    "- Using train sets get ARIMA(p,d,q) = ARIMA(0,1,0) from looking at the characteristics of the data as well as the ACF and PACF plots.\n",
    "- Then with ARIMA(0,1,0) data test is used to training dataset and get RMSE = 22.772.\n",
    "- After it, get validation model using 'validation.csv' and get RMSE = 14.469.\n",
    "- The forecast does have the characteristics of a persistence forecast. This suggests that although this time series does have an obvious trend, it is still a reasonably difficult problem.\n",
    "- This model can be re-evaluated to get the smallest RMSE."
   ]
  }
 ],
 "metadata": {
  "kernelspec": {
   "display_name": "Python 3",
   "language": "python",
   "name": "python3"
  },
  "language_info": {
   "codemirror_mode": {
    "name": "ipython",
    "version": 3
   },
   "file_extension": ".py",
   "mimetype": "text/x-python",
   "name": "python",
   "nbconvert_exporter": "python",
   "pygments_lexer": "ipython3",
   "version": "3.6.4"
  }
 },
 "nbformat": 4,
 "nbformat_minor": 2
}
